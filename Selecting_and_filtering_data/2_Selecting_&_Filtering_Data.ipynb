{
 "cells": [
  {
   "cell_type": "markdown",
   "metadata": {},
   "source": [
    "2. Selecting & Filtering Data  \n",
    "•\tdf['col_name'] → Select a single column  \n",
    "•\tdf[['col1', 'col2']] → Select multiple columns  \n",
    "•\tdf.loc[row_label, col_label] → Select by labels  \n",
    "•\tdf.iloc[row_index, col_index] → Select by index position  \n",
    "•\tdf[df['col'] > value] → Filter rows based on condition  \n",
    "•\tdf.query('col > value') → Filter using query method  \n"
   ]
  }
 ],
 "metadata": {
  "language_info": {
   "name": "python"
  }
 },
 "nbformat": 4,
 "nbformat_minor": 2
}
