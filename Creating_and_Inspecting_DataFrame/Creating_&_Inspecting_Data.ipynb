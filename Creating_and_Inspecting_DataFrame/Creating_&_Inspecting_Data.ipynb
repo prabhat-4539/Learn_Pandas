{
 "cells": [
  {
   "cell_type": "markdown",
   "metadata": {},
   "source": [
    "📌 1. Creating & Inspecting Data  \n",
    "•\tpd.DataFrame() → Create a DataFrame   \n",
    "•\tdf.head(n) → View the first n rows (default is 5)  \n",
    "•\tdf.tail(n) → View the last n rows   \n",
    "•\tdf.info() → Summary of DataFrame (data types, non-null counts)  \n",
    "•\tdf.describe() → Summary statistics (numerical columns)  \n",
    "•\tdf.shape → Get (rows, columns) count  \n",
    "•\tdf.columns → Get column names  \n",
    "•\tdf.dtypes → Check data types of columns  \n",
    "•\tdf.nunique() → Count unique values in each column  \n",
    "•\tdf.memory_usage() → Check memory usage of DataFrame  \n"
   ]
  }
 ],
 "metadata": {
  "language_info": {
   "name": "python"
  }
 },
 "nbformat": 4,
 "nbformat_minor": 2
}
