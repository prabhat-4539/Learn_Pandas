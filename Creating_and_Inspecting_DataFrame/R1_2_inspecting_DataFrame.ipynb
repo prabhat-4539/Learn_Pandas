{
 "cells": [
  {
   "cell_type": "code",
   "execution_count": 6,
   "metadata": {},
   "outputs": [],
   "source": [
    "import pandas as pd"
   ]
  },
  {
   "cell_type": "code",
   "execution_count": 12,
   "metadata": {},
   "outputs": [
    {
     "data": {
      "text/html": [
       "<div>\n",
       "<style scoped>\n",
       "    .dataframe tbody tr th:only-of-type {\n",
       "        vertical-align: middle;\n",
       "    }\n",
       "\n",
       "    .dataframe tbody tr th {\n",
       "        vertical-align: top;\n",
       "    }\n",
       "\n",
       "    .dataframe thead th {\n",
       "        text-align: right;\n",
       "    }\n",
       "</style>\n",
       "<table border=\"1\" class=\"dataframe\">\n",
       "  <thead>\n",
       "    <tr style=\"text-align: right;\">\n",
       "      <th></th>\n",
       "      <th>date</th>\n",
       "      <th>steps</th>\n",
       "      <th>distance_km</th>\n",
       "      <th>calories_burned</th>\n",
       "      <th>active_minutes</th>\n",
       "      <th>sleep_hours</th>\n",
       "      <th>water_intake_liters</th>\n",
       "      <th>mood</th>\n",
       "    </tr>\n",
       "  </thead>\n",
       "  <tbody>\n",
       "    <tr>\n",
       "      <th>0</th>\n",
       "      <td>08/10/2022</td>\n",
       "      <td>4147</td>\n",
       "      <td>3.11</td>\n",
       "      <td>124.41</td>\n",
       "      <td>41</td>\n",
       "      <td>10.5</td>\n",
       "      <td>3.77</td>\n",
       "      <td>stressed</td>\n",
       "    </tr>\n",
       "    <tr>\n",
       "      <th>1</th>\n",
       "      <td>11/06/2022</td>\n",
       "      <td>323</td>\n",
       "      <td>0.24</td>\n",
       "      <td>9.69</td>\n",
       "      <td>3</td>\n",
       "      <td>6.0</td>\n",
       "      <td>1.90</td>\n",
       "      <td>sad</td>\n",
       "    </tr>\n",
       "    <tr>\n",
       "      <th>2</th>\n",
       "      <td>28/01/2022</td>\n",
       "      <td>6622</td>\n",
       "      <td>4.97</td>\n",
       "      <td>198.66</td>\n",
       "      <td>66</td>\n",
       "      <td>6.0</td>\n",
       "      <td>4.48</td>\n",
       "      <td>sad</td>\n",
       "    </tr>\n",
       "    <tr>\n",
       "      <th>3</th>\n",
       "      <td>23/03/2022</td>\n",
       "      <td>11136</td>\n",
       "      <td>8.35</td>\n",
       "      <td>334.08</td>\n",
       "      <td>111</td>\n",
       "      <td>8.0</td>\n",
       "      <td>1.08</td>\n",
       "      <td>tired</td>\n",
       "    </tr>\n",
       "    <tr>\n",
       "      <th>4</th>\n",
       "      <td>20/05/2022</td>\n",
       "      <td>2718</td>\n",
       "      <td>2.04</td>\n",
       "      <td>81.54</td>\n",
       "      <td>27</td>\n",
       "      <td>4.9</td>\n",
       "      <td>1.00</td>\n",
       "      <td>tired</td>\n",
       "    </tr>\n",
       "    <tr>\n",
       "      <th>5</th>\n",
       "      <td>26/12/2022</td>\n",
       "      <td>4972</td>\n",
       "      <td>3.73</td>\n",
       "      <td>149.16</td>\n",
       "      <td>50</td>\n",
       "      <td>6.0</td>\n",
       "      <td>3.33</td>\n",
       "      <td>happy</td>\n",
       "    </tr>\n",
       "    <tr>\n",
       "      <th>6</th>\n",
       "      <td>27/07/2022</td>\n",
       "      <td>15271</td>\n",
       "      <td>11.45</td>\n",
       "      <td>458.13</td>\n",
       "      <td>153</td>\n",
       "      <td>3.4</td>\n",
       "      <td>0.88</td>\n",
       "      <td>happy</td>\n",
       "    </tr>\n",
       "    <tr>\n",
       "      <th>7</th>\n",
       "      <td>13/07/2022</td>\n",
       "      <td>17290</td>\n",
       "      <td>12.97</td>\n",
       "      <td>518.70</td>\n",
       "      <td>173</td>\n",
       "      <td>11.6</td>\n",
       "      <td>4.08</td>\n",
       "      <td>energetic</td>\n",
       "    </tr>\n",
       "    <tr>\n",
       "      <th>8</th>\n",
       "      <td>17/06/2022</td>\n",
       "      <td>1042</td>\n",
       "      <td>0.78</td>\n",
       "      <td>31.26</td>\n",
       "      <td>10</td>\n",
       "      <td>6.5</td>\n",
       "      <td>2.49</td>\n",
       "      <td>happy</td>\n",
       "    </tr>\n",
       "    <tr>\n",
       "      <th>9</th>\n",
       "      <td>25/06/2022</td>\n",
       "      <td>6818</td>\n",
       "      <td>5.11</td>\n",
       "      <td>204.54</td>\n",
       "      <td>68</td>\n",
       "      <td>6.5</td>\n",
       "      <td>3.61</td>\n",
       "      <td>stressed</td>\n",
       "    </tr>\n",
       "  </tbody>\n",
       "</table>\n",
       "</div>"
      ],
      "text/plain": [
       "         date  steps  distance_km  calories_burned  active_minutes  \\\n",
       "0  08/10/2022   4147         3.11           124.41              41   \n",
       "1  11/06/2022    323         0.24             9.69               3   \n",
       "2  28/01/2022   6622         4.97           198.66              66   \n",
       "3  23/03/2022  11136         8.35           334.08             111   \n",
       "4  20/05/2022   2718         2.04            81.54              27   \n",
       "5  26/12/2022   4972         3.73           149.16              50   \n",
       "6  27/07/2022  15271        11.45           458.13             153   \n",
       "7  13/07/2022  17290        12.97           518.70             173   \n",
       "8  17/06/2022   1042         0.78            31.26              10   \n",
       "9  25/06/2022   6818         5.11           204.54              68   \n",
       "\n",
       "   sleep_hours  water_intake_liters       mood  \n",
       "0         10.5                 3.77   stressed  \n",
       "1          6.0                 1.90        sad  \n",
       "2          6.0                 4.48        sad  \n",
       "3          8.0                 1.08      tired  \n",
       "4          4.9                 1.00      tired  \n",
       "5          6.0                 3.33      happy  \n",
       "6          3.4                 0.88      happy  \n",
       "7         11.6                 4.08  energetic  \n",
       "8          6.5                 2.49      happy  \n",
       "9          6.5                 3.61   stressed  "
      ]
     },
     "execution_count": 12,
     "metadata": {},
     "output_type": "execute_result"
    }
   ],
   "source": [
    "step_tracker_detail = pd.read_csv(r'D:\\Data Analytics\\Kaggle datasets\\steps_tracker_dataset.csv')\n",
    "step_tracker_detail.head(10)"
   ]
  },
  {
   "cell_type": "code",
   "execution_count": 14,
   "metadata": {},
   "outputs": [
    {
     "data": {
      "text/plain": [
       "pandas.core.frame.DataFrame"
      ]
     },
     "execution_count": 14,
     "metadata": {},
     "output_type": "execute_result"
    }
   ],
   "source": [
    "type(step_tracker_detail)"
   ]
  },
  {
   "cell_type": "markdown",
   "metadata": {},
   "source": [
    "# Inspecting dataframe\n",
    "Methods: Have parentheses (), may take parameters\n",
    "Attributes/Property : do not have parentheses"
   ]
  },
  {
   "cell_type": "code",
   "execution_count": null,
   "metadata": {},
   "outputs": [
    {
     "data": {
      "text/plain": [
       "(500, 8)"
      ]
     },
     "execution_count": 17,
     "metadata": {},
     "output_type": "execute_result"
    }
   ],
   "source": [
    "step_tracker_detail.shape\n",
    "#(Rows, columns)"
   ]
  },
  {
   "cell_type": "code",
   "execution_count": null,
   "metadata": {},
   "outputs": [
    {
     "name": "stdout",
     "output_type": "stream",
     "text": [
      "<class 'pandas.core.frame.DataFrame'>\n",
      "RangeIndex: 500 entries, 0 to 499\n",
      "Data columns (total 8 columns):\n",
      " #   Column               Non-Null Count  Dtype  \n",
      "---  ------               --------------  -----  \n",
      " 0   date                 500 non-null    object \n",
      " 1   steps                500 non-null    int64  \n",
      " 2   distance_km          500 non-null    float64\n",
      " 3   calories_burned      500 non-null    float64\n",
      " 4   active_minutes       500 non-null    int64  \n",
      " 5   sleep_hours          500 non-null    float64\n",
      " 6   water_intake_liters  500 non-null    float64\n",
      " 7   mood                 500 non-null    object \n",
      "dtypes: float64(4), int64(2), object(2)\n",
      "memory usage: 31.4+ KB\n"
     ]
    }
   ],
   "source": [
    "# •\tdf.info() → Summary of DataFrame (data types, non-null counts)\n",
    "step_tracker_detail.info()"
   ]
  },
  {
   "cell_type": "code",
   "execution_count": null,
   "metadata": {},
   "outputs": [
    {
     "data": {
      "text/html": [
       "<div>\n",
       "<style scoped>\n",
       "    .dataframe tbody tr th:only-of-type {\n",
       "        vertical-align: middle;\n",
       "    }\n",
       "\n",
       "    .dataframe tbody tr th {\n",
       "        vertical-align: top;\n",
       "    }\n",
       "\n",
       "    .dataframe thead th {\n",
       "        text-align: right;\n",
       "    }\n",
       "</style>\n",
       "<table border=\"1\" class=\"dataframe\">\n",
       "  <thead>\n",
       "    <tr style=\"text-align: right;\">\n",
       "      <th></th>\n",
       "      <th>steps</th>\n",
       "      <th>distance_km</th>\n",
       "      <th>calories_burned</th>\n",
       "      <th>active_minutes</th>\n",
       "      <th>sleep_hours</th>\n",
       "      <th>water_intake_liters</th>\n",
       "    </tr>\n",
       "  </thead>\n",
       "  <tbody>\n",
       "    <tr>\n",
       "      <th>count</th>\n",
       "      <td>500.000000</td>\n",
       "      <td>500.000000</td>\n",
       "      <td>500.000000</td>\n",
       "      <td>500.00000</td>\n",
       "      <td>500.000000</td>\n",
       "      <td>500.000000</td>\n",
       "    </tr>\n",
       "    <tr>\n",
       "      <th>mean</th>\n",
       "      <td>10238.572000</td>\n",
       "      <td>7.678800</td>\n",
       "      <td>307.157160</td>\n",
       "      <td>102.40800</td>\n",
       "      <td>7.292400</td>\n",
       "      <td>2.506580</td>\n",
       "    </tr>\n",
       "    <tr>\n",
       "      <th>std</th>\n",
       "      <td>5829.268207</td>\n",
       "      <td>4.371964</td>\n",
       "      <td>174.878046</td>\n",
       "      <td>58.29293</td>\n",
       "      <td>1.814046</td>\n",
       "      <td>1.426296</td>\n",
       "    </tr>\n",
       "    <tr>\n",
       "      <th>min</th>\n",
       "      <td>26.000000</td>\n",
       "      <td>0.020000</td>\n",
       "      <td>0.780000</td>\n",
       "      <td>0.00000</td>\n",
       "      <td>3.100000</td>\n",
       "      <td>0.040000</td>\n",
       "    </tr>\n",
       "    <tr>\n",
       "      <th>25%</th>\n",
       "      <td>5313.250000</td>\n",
       "      <td>3.985000</td>\n",
       "      <td>159.397500</td>\n",
       "      <td>53.00000</td>\n",
       "      <td>6.000000</td>\n",
       "      <td>1.300000</td>\n",
       "    </tr>\n",
       "    <tr>\n",
       "      <th>50%</th>\n",
       "      <td>10699.000000</td>\n",
       "      <td>8.025000</td>\n",
       "      <td>320.970000</td>\n",
       "      <td>107.00000</td>\n",
       "      <td>7.000000</td>\n",
       "      <td>2.495000</td>\n",
       "    </tr>\n",
       "    <tr>\n",
       "      <th>75%</th>\n",
       "      <td>15317.500000</td>\n",
       "      <td>11.490000</td>\n",
       "      <td>459.525000</td>\n",
       "      <td>153.00000</td>\n",
       "      <td>8.225000</td>\n",
       "      <td>3.785000</td>\n",
       "    </tr>\n",
       "    <tr>\n",
       "      <th>max</th>\n",
       "      <td>19979.000000</td>\n",
       "      <td>14.980000</td>\n",
       "      <td>599.370000</td>\n",
       "      <td>200.00000</td>\n",
       "      <td>12.000000</td>\n",
       "      <td>5.000000</td>\n",
       "    </tr>\n",
       "  </tbody>\n",
       "</table>\n",
       "</div>"
      ],
      "text/plain": [
       "              steps  distance_km  calories_burned  active_minutes  \\\n",
       "count    500.000000   500.000000       500.000000       500.00000   \n",
       "mean   10238.572000     7.678800       307.157160       102.40800   \n",
       "std     5829.268207     4.371964       174.878046        58.29293   \n",
       "min       26.000000     0.020000         0.780000         0.00000   \n",
       "25%     5313.250000     3.985000       159.397500        53.00000   \n",
       "50%    10699.000000     8.025000       320.970000       107.00000   \n",
       "75%    15317.500000    11.490000       459.525000       153.00000   \n",
       "max    19979.000000    14.980000       599.370000       200.00000   \n",
       "\n",
       "       sleep_hours  water_intake_liters  \n",
       "count   500.000000           500.000000  \n",
       "mean      7.292400             2.506580  \n",
       "std       1.814046             1.426296  \n",
       "min       3.100000             0.040000  \n",
       "25%       6.000000             1.300000  \n",
       "50%       7.000000             2.495000  \n",
       "75%       8.225000             3.785000  \n",
       "max      12.000000             5.000000  "
      ]
     },
     "execution_count": 20,
     "metadata": {},
     "output_type": "execute_result"
    }
   ],
   "source": [
    "# •\tdf.describe() → Summary statistics (numerical columns)\n",
    "step_tracker_detail.describe()"
   ]
  },
  {
   "cell_type": "code",
   "execution_count": null,
   "metadata": {},
   "outputs": [
    {
     "data": {
      "text/plain": [
       "Index(['date', 'steps', 'distance_km', 'calories_burned', 'active_minutes',\n",
       "       'sleep_hours', 'water_intake_liters', 'mood'],\n",
       "      dtype='object')"
      ]
     },
     "execution_count": 21,
     "metadata": {},
     "output_type": "execute_result"
    }
   ],
   "source": [
    "# •\tdf.columns → Get column names\n",
    "step_tracker_detail.columns"
   ]
  },
  {
   "cell_type": "code",
   "execution_count": 23,
   "metadata": {},
   "outputs": [
    {
     "data": {
      "text/plain": [
       "date                    object\n",
       "steps                    int64\n",
       "distance_km            float64\n",
       "calories_burned        float64\n",
       "active_minutes           int64\n",
       "sleep_hours            float64\n",
       "water_intake_liters    float64\n",
       "mood                    object\n",
       "dtype: object"
      ]
     },
     "execution_count": 23,
     "metadata": {},
     "output_type": "execute_result"
    }
   ],
   "source": [
    "# •\tdf.dtypes → Check data types of columns\n",
    "step_tracker_detail.dtypes"
   ]
  },
  {
   "cell_type": "code",
   "execution_count": 33,
   "metadata": {},
   "outputs": [
    {
     "data": {
      "text/plain": [
       "date                   268\n",
       "steps                  491\n",
       "distance_km            425\n",
       "calories_burned        491\n",
       "active_minutes         183\n",
       "sleep_hours             82\n",
       "water_intake_liters    311\n",
       "mood                     5\n",
       "dtype: int64"
      ]
     },
     "execution_count": 33,
     "metadata": {},
     "output_type": "execute_result"
    }
   ],
   "source": [
    "# •\tdf.nunique() → Count unique values in each column\n",
    "step_tracker_detail.nunique()\n"
   ]
  },
  {
   "cell_type": "code",
   "execution_count": 34,
   "metadata": {},
   "outputs": [
    {
     "data": {
      "text/plain": [
       "pandas.core.series.Series"
      ]
     },
     "execution_count": 34,
     "metadata": {},
     "output_type": "execute_result"
    }
   ],
   "source": [
    "type(step_tracker_detail.nunique())"
   ]
  },
  {
   "cell_type": "code",
   "execution_count": 35,
   "metadata": {},
   "outputs": [
    {
     "data": {
      "text/plain": [
       "Index                   132\n",
       "date                   4000\n",
       "steps                  4000\n",
       "distance_km            4000\n",
       "calories_burned        4000\n",
       "active_minutes         4000\n",
       "sleep_hours            4000\n",
       "water_intake_liters    4000\n",
       "mood                   4000\n",
       "dtype: int64"
      ]
     },
     "execution_count": 35,
     "metadata": {},
     "output_type": "execute_result"
    }
   ],
   "source": [
    "# •\tdf.memory_usage() → Check memory usage of DataFrame\n",
    "step_tracker_detail.memory_usage()"
   ]
  },
  {
   "cell_type": "code",
   "execution_count": null,
   "metadata": {},
   "outputs": [],
   "source": []
  }
 ],
 "metadata": {
  "kernelspec": {
   "display_name": "Python 3",
   "language": "python",
   "name": "python3"
  },
  "language_info": {
   "codemirror_mode": {
    "name": "ipython",
    "version": 3
   },
   "file_extension": ".py",
   "mimetype": "text/x-python",
   "name": "python",
   "nbconvert_exporter": "python",
   "pygments_lexer": "ipython3",
   "version": "3.13.1"
  }
 },
 "nbformat": 4,
 "nbformat_minor": 2
}
